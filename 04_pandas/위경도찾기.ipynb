{
 "cells": [
  {
   "cell_type": "code",
   "execution_count": 1,
   "metadata": {},
   "outputs": [
    {
     "name": "stdout",
     "output_type": "stream",
     "text": [
      "Requirement already satisfied: geopy in c:\\users\\haru1367\\anaconda3\\lib\\site-packages (2.4.0)\n",
      "Requirement already satisfied: geographiclib<3,>=1.52 in c:\\users\\haru1367\\anaconda3\\lib\\site-packages (from geopy) (2.0)\n",
      "Note: you may need to restart the kernel to use updated packages.\n"
     ]
    }
   ],
   "source": [
    "%pip install geopy"
   ]
  },
  {
   "cell_type": "code",
   "execution_count": 2,
   "metadata": {},
   "outputs": [],
   "source": [
    "from geopy.geocoders import Nominatim\n",
    "geocoder = Nominatim(user_agent='test')"
   ]
  },
  {
   "cell_type": "code",
   "execution_count": 3,
   "metadata": {},
   "outputs": [
    {
     "name": "stdout",
     "output_type": "stream",
     "text": [
      "CPU times: total: 0 ns\n",
      "Wall time: 0 ns\n"
     ]
    }
   ],
   "source": [
    "%time #셀을 한번 실행하는데 걸리는 시간\n",
    "#%timeit -n10 셀을 10번 반복하는데 걸리는 시간\n",
    "result = geocoder.geocode('세종특별자치시 조치원읍 세종로 2511')"
   ]
  },
  {
   "cell_type": "code",
   "execution_count": 4,
   "metadata": {},
   "outputs": [
    {
     "data": {
      "text/plain": [
       "geopy.location.Location"
      ]
     },
     "execution_count": 4,
     "metadata": {},
     "output_type": "execute_result"
    }
   ],
   "source": [
    "type(result)"
   ]
  },
  {
   "cell_type": "code",
   "execution_count": 5,
   "metadata": {},
   "outputs": [
    {
     "data": {
      "text/plain": [
       "'고려대학교 세종캠퍼스, 2511, 세종로, 조치원읍, 세종, 30019, 대한민국'"
      ]
     },
     "execution_count": 5,
     "metadata": {},
     "output_type": "execute_result"
    }
   ],
   "source": [
    "result.address"
   ]
  },
  {
   "cell_type": "code",
   "execution_count": 6,
   "metadata": {},
   "outputs": [
    {
     "data": {
      "text/plain": [
       "36.6105229"
      ]
     },
     "execution_count": 6,
     "metadata": {},
     "output_type": "execute_result"
    }
   ],
   "source": [
    "result.latitude #위도"
   ]
  },
  {
   "cell_type": "code",
   "execution_count": 7,
   "metadata": {},
   "outputs": [
    {
     "data": {
      "text/plain": [
       "127.28871538515327"
      ]
     },
     "execution_count": 7,
     "metadata": {},
     "output_type": "execute_result"
    }
   ],
   "source": [
    "result.longitude #경도"
   ]
  },
  {
   "cell_type": "code",
   "execution_count": 8,
   "metadata": {},
   "outputs": [
    {
     "data": {
      "text/plain": [
       "Point(36.6105229, 127.28871538515327, 0.0)"
      ]
     },
     "execution_count": 8,
     "metadata": {},
     "output_type": "execute_result"
    }
   ],
   "source": [
    "result.point"
   ]
  },
  {
   "cell_type": "code",
   "execution_count": 9,
   "metadata": {},
   "outputs": [
    {
     "data": {
      "text/plain": [
       "Location(고려대학교 세종캠퍼스, 2511, 세종로, 조치원읍, 세종, 30019, 대한민국, (36.6105229, 127.28871538515327, 0.0))"
      ]
     },
     "execution_count": 9,
     "metadata": {},
     "output_type": "execute_result"
    }
   ],
   "source": [
    "geocoder.reverse('36.6105229, 127.28871538515327')"
   ]
  },
  {
   "cell_type": "code",
   "execution_count": 10,
   "metadata": {},
   "outputs": [],
   "source": [
    "import json,os\n",
    "key=''\n",
    "with open('../key.json','r')as f:\n",
    "    key = json.load(f)\n",
    "    #print(key['key'])\n",
    "REST_API_KEY = key['key']"
   ]
  },
  {
   "cell_type": "markdown",
   "metadata": {},
   "source": [
    "curl -v -X GET \"https://dapi.kakao.com/v2/local/search/address.json\" \\\n",
    "  -H \"Authorization: KakaoAK ${REST_API_KEY}\" \\\n",
    "  --data-urlencode \"query=전북 삼성동 100\" "
   ]
  },
  {
   "cell_type": "code",
   "execution_count": 20,
   "metadata": {},
   "outputs": [
    {
     "data": {
      "text/plain": [
       "{'documents': [{'address': {'address_name': '세종특별자치시 조치원읍 서창리 208',\n",
       "    'b_code': '3611025034',\n",
       "    'h_code': '3611025000',\n",
       "    'main_address_no': '208',\n",
       "    'mountain_yn': 'N',\n",
       "    'region_1depth_name': '세종특별자치시',\n",
       "    'region_2depth_name': '',\n",
       "    'region_3depth_h_name': '조치원읍',\n",
       "    'region_3depth_name': '조치원읍 서창리',\n",
       "    'sub_address_no': '',\n",
       "    'x': '127.291002698042',\n",
       "    'y': '36.6116946201537'},\n",
       "   'address_name': '세종특별자치시 조치원읍 세종로 2511',\n",
       "   'address_type': 'ROAD_ADDR',\n",
       "   'road_address': {'address_name': '세종특별자치시 조치원읍 세종로 2511',\n",
       "    'building_name': '고려대학교세종캠퍼스',\n",
       "    'main_building_no': '2511',\n",
       "    'region_1depth_name': '세종특별자치시',\n",
       "    'region_2depth_name': '',\n",
       "    'region_3depth_name': '조치원읍 서창리',\n",
       "    'road_name': '세종로',\n",
       "    'sub_building_no': '',\n",
       "    'underground_yn': 'N',\n",
       "    'x': '127.291002698042',\n",
       "    'y': '36.6116946201537',\n",
       "    'zone_no': '30019'},\n",
       "   'x': '127.291002698042',\n",
       "   'y': '36.6116946201537'}],\n",
       " 'meta': {'is_end': True, 'pageable_count': 1, 'total_count': 1}}"
      ]
     },
     "execution_count": 20,
     "metadata": {},
     "output_type": "execute_result"
    }
   ],
   "source": [
    "import requests\n",
    "\n",
    "address = '세종특별자치시 조치원읍 세종로 2511'\n",
    "url = f\"https://dapi.kakao.com/v2/local/search/address.json?query={address}\"\n",
    "headers = {'Authorization':f'KakaoAK {REST_API_KEY}'}\n",
    "res = requests.get(url,headers=headers).json()\n",
    "res"
   ]
  },
  {
   "cell_type": "code",
   "execution_count": 21,
   "metadata": {},
   "outputs": [
    {
     "name": "stdout",
     "output_type": "stream",
     "text": [
      "127.291002698042\n",
      "36.6116946201537\n",
      "\n"
     ]
    }
   ],
   "source": [
    "print(res['documents'][0]['address']['x'])\n",
    "print(res['documents'][0]['address']['y'])\n",
    "print('')"
   ]
  },
  {
   "cell_type": "markdown",
   "metadata": {},
   "source": [
    "<키워드 검색>\n",
    "요청 : 세종특별자치시 조치원읍 세종로 2511 20km 반경에서 카카오프렌즈 매장 검색\n",
    "curl -v -X GET \"https://dapi.kakao.com/v2/local/search/keyword.json?y=37.514322572335935&x=127.06283102249932&radius=20000\" \\\n",
    "  -H \"Authorization: KakaoAK ${REST_API_KEY}\" \\\n",
    "  --data-urlencode \"query=카카오프렌즈\" "
   ]
  },
  {
   "cell_type": "code",
   "execution_count": 24,
   "metadata": {},
   "outputs": [
    {
     "data": {
      "text/plain": [
       "{'documents': [{'address_name': '세종특별자치시 나성동 795',\n",
       "   'category_group_code': '',\n",
       "   'category_group_name': '',\n",
       "   'category_name': '스포츠,레저 > 골프 > 골프연습장 > 스크린골프연습장',\n",
       "   'distance': '13820',\n",
       "   'id': '1749884461',\n",
       "   'phone': '044-866-9003',\n",
       "   'place_name': '카카오프렌즈스크린 나성점',\n",
       "   'place_url': 'http://place.map.kakao.com/1749884461',\n",
       "   'road_address_name': '세종특별자치시 나성로 125-16',\n",
       "   'x': '127.257737992221',\n",
       "   'y': '36.4900749691997'}],\n",
       " 'meta': {'is_end': True,\n",
       "  'pageable_count': 1,\n",
       "  'same_name': {'keyword': '카카오프렌즈', 'region': [], 'selected_region': ''},\n",
       "  'total_count': 1}}"
      ]
     },
     "execution_count": 24,
     "metadata": {},
     "output_type": "execute_result"
    }
   ],
   "source": [
    "y = 36.6116946201537\n",
    "x = 127.291002698042\n",
    "radius=20000\n",
    "query='카카오프렌즈'\n",
    "url = f\"https://dapi.kakao.com/v2/local/search/keyword.json?y={y}&x={x}&radius={radius}&query={query}\"\n",
    "headers = {'Authorization':f'KakaoAK {REST_API_KEY}'}\n",
    "res = requests.get(url,headers=headers).json()\n",
    "res"
   ]
  },
  {
   "cell_type": "markdown",
   "metadata": {},
   "source": [
    "<카테고리 검색>\n",
    "요청: 세종특별자치시 조치원읍 세종로 2511 20km 반경에서 약국 검색\n",
    "curl -v -X GET \"https://dapi.kakao.com/v2/local/search/category.json?category\\_group\\_code=PM9&radius=20000\" \\\n",
    "  -H \"Authorization: KakaoAK ${REST_API_KEY}\""
   ]
  },
  {
   "cell_type": "code",
   "execution_count": 25,
   "metadata": {},
   "outputs": [
    {
     "data": {
      "text/plain": [
       "{'documents': [{'address_name': '세종특별자치시 조치원읍 침산리 270-9',\n",
       "   'category_group_code': 'PM9',\n",
       "   'category_group_name': '약국',\n",
       "   'category_name': '의료,건강 > 약국',\n",
       "   'distance': '949',\n",
       "   'id': '671670324',\n",
       "   'phone': '044-863-1477',\n",
       "   'place_name': '참편한약국',\n",
       "   'place_url': 'http://place.map.kakao.com/671670324',\n",
       "   'road_address_name': '세종특별자치시 조치원읍 행복8길 2',\n",
       "   'x': '127.291288099121',\n",
       "   'y': '36.6031422975722'},\n",
       "  {'address_name': '세종특별자치시 조치원읍 교리 15-5',\n",
       "   'category_group_code': 'PM9',\n",
       "   'category_group_name': '약국',\n",
       "   'category_name': '의료,건강 > 약국',\n",
       "   'distance': '1065',\n",
       "   'id': '17821859',\n",
       "   'phone': '044-865-1122',\n",
       "   'place_name': '신흥약국',\n",
       "   'place_url': 'http://place.map.kakao.com/17821859',\n",
       "   'road_address_name': '세종특별자치시 조치원읍 새내16길 4',\n",
       "   'x': '127.29783801772327',\n",
       "   'y': '36.60383260164238'},\n",
       "  {'address_name': '세종특별자치시 조치원읍 교리 15-9',\n",
       "   'category_group_code': 'PM9',\n",
       "   'category_group_name': '약국',\n",
       "   'category_name': '의료,건강 > 약국',\n",
       "   'distance': '1083',\n",
       "   'id': '11126573',\n",
       "   'phone': '044-866-2229',\n",
       "   'place_name': '세인약국',\n",
       "   'place_url': 'http://place.map.kakao.com/11126573',\n",
       "   'road_address_name': '세종특별자치시 조치원읍 새내로 132',\n",
       "   'x': '127.297850709046',\n",
       "   'y': '36.6036451330071'},\n",
       "  {'address_name': '세종특별자치시 조치원읍 교리 7-8',\n",
       "   'category_group_code': '',\n",
       "   'category_group_name': '',\n",
       "   'category_name': '의료,건강 > 한약국,한약방',\n",
       "   'distance': '1048',\n",
       "   'id': '1484028638',\n",
       "   'phone': '010-6403-8576',\n",
       "   'place_name': '자연산약초',\n",
       "   'place_url': 'http://place.map.kakao.com/1484028638',\n",
       "   'road_address_name': '세종특별자치시 조치원읍 조치원5길 72-1',\n",
       "   'x': '127.298850515986',\n",
       "   'y': '36.6046726318756'},\n",
       "  {'address_name': '세종특별자치시 조치원읍 원리 10-27',\n",
       "   'category_group_code': 'PM9',\n",
       "   'category_group_name': '약국',\n",
       "   'category_name': '의료,건강 > 약국',\n",
       "   'distance': '1277',\n",
       "   'id': '14829576',\n",
       "   'phone': '044-866-3800',\n",
       "   'place_name': '종로약국',\n",
       "   'place_url': 'http://place.map.kakao.com/14829576',\n",
       "   'road_address_name': '세종특별자치시 조치원읍 조치원로 3',\n",
       "   'x': '127.297198019197',\n",
       "   'y': '36.6013218232237'},\n",
       "  {'address_name': '세종특별자치시 조치원읍 교리 24-1',\n",
       "   'category_group_code': 'PM9',\n",
       "   'category_group_name': '약국',\n",
       "   'category_name': '의료,건강 > 약국',\n",
       "   'distance': '1169',\n",
       "   'id': '11495650',\n",
       "   'phone': '044-868-8503',\n",
       "   'place_name': '우리들약국',\n",
       "   'place_url': 'http://place.map.kakao.com/11495650',\n",
       "   'road_address_name': '세종특별자치시 조치원읍 새내로 122',\n",
       "   'x': '127.29815174361443',\n",
       "   'y': '36.60287300521096'},\n",
       "  {'address_name': '세종특별자치시 조치원읍 원리 4-15',\n",
       "   'category_group_code': 'PM9',\n",
       "   'category_group_name': '약국',\n",
       "   'category_name': '의료,건강 > 약국',\n",
       "   'distance': '1383',\n",
       "   'id': '13540073',\n",
       "   'phone': '044-865-5331',\n",
       "   'place_name': '김약국',\n",
       "   'place_url': 'http://place.map.kakao.com/13540073',\n",
       "   'road_address_name': '세종특별자치시 조치원읍 조치원로 26',\n",
       "   'x': '127.29955281315341',\n",
       "   'y': '36.60130511416173'},\n",
       "  {'address_name': '세종특별자치시 조치원읍 원리 12-12',\n",
       "   'category_group_code': 'PM9',\n",
       "   'category_group_name': '약국',\n",
       "   'category_name': '의료,건강 > 약국',\n",
       "   'distance': '1405',\n",
       "   'id': '386539246',\n",
       "   'phone': '044-867-8787',\n",
       "   'place_name': '조치원햇살약국',\n",
       "   'place_url': 'http://place.map.kakao.com/386539246',\n",
       "   'road_address_name': '세종특별자치시 조치원읍 새내로 97',\n",
       "   'x': '127.298034826713',\n",
       "   'y': '36.6003717348367'},\n",
       "  {'address_name': '세종특별자치시 조치원읍 정리 102-3',\n",
       "   'category_group_code': 'PM9',\n",
       "   'category_group_name': '약국',\n",
       "   'category_name': '의료,건강 > 약국',\n",
       "   'distance': '1429',\n",
       "   'id': '8732248',\n",
       "   'phone': '044-865-3629',\n",
       "   'place_name': '감초당온누리약국',\n",
       "   'place_url': 'http://place.map.kakao.com/8732248',\n",
       "   'road_address_name': '세종특별자치시 조치원읍 새내9길 3',\n",
       "   'x': '127.298132399829',\n",
       "   'y': '36.6001696355392'},\n",
       "  {'address_name': '세종특별자치시 조치원읍 상리 141',\n",
       "   'category_group_code': 'PM9',\n",
       "   'category_group_name': '약국',\n",
       "   'category_name': '의료,건강 > 약국',\n",
       "   'distance': '1473',\n",
       "   'id': '10050764',\n",
       "   'phone': '044-865-7900',\n",
       "   'place_name': '허약국',\n",
       "   'place_url': 'http://place.map.kakao.com/10050764',\n",
       "   'road_address_name': '세종특별자치시 조치원읍 조치원로 42-2',\n",
       "   'x': '127.30170652289814',\n",
       "   'y': '36.601598859704445'},\n",
       "  {'address_name': '세종특별자치시 조치원읍 원리 11-9',\n",
       "   'category_group_code': 'PM9',\n",
       "   'category_group_name': '약국',\n",
       "   'category_name': '의료,건강 > 약국',\n",
       "   'distance': '1324',\n",
       "   'id': '9241445',\n",
       "   'phone': '044-865-2169',\n",
       "   'place_name': '역전약국',\n",
       "   'place_url': 'http://place.map.kakao.com/9241445',\n",
       "   'road_address_name': '세종특별자치시 조치원읍 으뜸길 208',\n",
       "   'x': '127.297052945535',\n",
       "   'y': '36.6007959194654'},\n",
       "  {'address_name': '세종특별자치시 조치원읍 원리 9-10',\n",
       "   'category_group_code': 'PM9',\n",
       "   'category_group_name': '약국',\n",
       "   'category_name': '의료,건강 > 약국',\n",
       "   'distance': '1237',\n",
       "   'id': '10404659',\n",
       "   'phone': '044-862-8088',\n",
       "   'place_name': '믿음약국',\n",
       "   'place_url': 'http://place.map.kakao.com/10404659',\n",
       "   'road_address_name': '세종특별자치시 조치원읍 새내로 113-1',\n",
       "   'x': '127.2978253730026',\n",
       "   'y': '36.601997012791664'},\n",
       "  {'address_name': '세종특별자치시 조치원읍 원리 7-6',\n",
       "   'category_group_code': 'PM9',\n",
       "   'category_group_name': '약국',\n",
       "   'category_name': '의료,건강 > 약국',\n",
       "   'distance': '1361',\n",
       "   'id': '19892708',\n",
       "   'phone': '044-866-2700',\n",
       "   'place_name': '다나약국',\n",
       "   'place_url': 'http://place.map.kakao.com/19892708',\n",
       "   'road_address_name': '세종특별자치시 조치원읍 새내로 102',\n",
       "   'x': '127.298314173141',\n",
       "   'y': '36.6009369515455'},\n",
       "  {'address_name': '세종특별자치시 조치원읍 상리 71-4',\n",
       "   'category_group_code': 'PM9',\n",
       "   'category_group_name': '약국',\n",
       "   'category_name': '의료,건강 > 약국',\n",
       "   'distance': '1512',\n",
       "   'id': '72806335',\n",
       "   'phone': '044-868-2375',\n",
       "   'place_name': '해오름온누리약국',\n",
       "   'place_url': 'http://place.map.kakao.com/72806335',\n",
       "   'road_address_name': '세종특별자치시 조치원읍 조치원10길 9',\n",
       "   'x': '127.30326394125933',\n",
       "   'y': '36.602309510239465'},\n",
       "  {'address_name': '세종특별자치시 조치원읍 정리 99-1',\n",
       "   'category_group_code': 'PM9',\n",
       "   'category_group_name': '약국',\n",
       "   'category_name': '의료,건강 > 약국',\n",
       "   'distance': '1626',\n",
       "   'id': '16712424',\n",
       "   'phone': '044-865-6562',\n",
       "   'place_name': '대수약국',\n",
       "   'place_url': 'http://place.map.kakao.com/16712424',\n",
       "   'road_address_name': '세종특별자치시 조치원읍 새내5길 2',\n",
       "   'x': '127.29848184934524',\n",
       "   'y': '36.59833404047182'}],\n",
       " 'meta': {'is_end': False,\n",
       "  'pageable_count': 45,\n",
       "  'same_name': {'keyword': '약국', 'region': [], 'selected_region': ''},\n",
       "  'total_count': 593}}"
      ]
     },
     "execution_count": 25,
     "metadata": {},
     "output_type": "execute_result"
    }
   ],
   "source": [
    "y = 36.6116946201537\n",
    "x = 127.291002698042\n",
    "radius=20000\n",
    "query='약국'\n",
    "url = f\"https://dapi.kakao.com/v2/local/search/keyword.json?y={y}&x={x}&radius={radius}&query={query}\"\n",
    "headers = {'Authorization':f'KakaoAK {REST_API_KEY}'}\n",
    "res = requests.get(url,headers=headers).json()\n",
    "res"
   ]
  },
  {
   "cell_type": "code",
   "execution_count": 26,
   "metadata": {},
   "outputs": [],
   "source": [
    "#koGPT"
   ]
  },
  {
   "cell_type": "code",
   "execution_count": 42,
   "metadata": {},
   "outputs": [
    {
     "data": {
      "text/plain": [
       "{'id': 'c651f78c-467b-4f7c-9ab9-7253374dc2ce',\n",
       " 'generations': [{'text': ' 지하철 폭발음과 거의 똑같다! 한겨레| 입력 2011.08.09 16:10 |수정 2011.08.09 17:40 [한겨레]',\n",
       "   'tokens': 32},\n",
       "  {'text': ' 저녁노을 | 조회 53914.06.16 21:45 첼로 http://cafe.daum.net/bohunmedia/5FF4',\n",
       "   'tokens': 32},\n",
       "  {'text': ' 역사를 거슬러 올라가 보자면.. 당시 조선이라는 나라의 임금들중 최고로 미움을 받는 존재가 있다. 바로 선조 이다... 그',\n",
       "   'tokens': 32}],\n",
       " 'usage': {'prompt_tokens': 21, 'generated_tokens': 96, 'total_tokens': 117}}"
      ]
     },
     "execution_count": 42,
     "metadata": {},
     "output_type": "execute_result"
    }
   ],
   "source": [
    "# coding=utf8\n",
    "# REST API 호출에 필요한 라이브러리\n",
    "import requests\n",
    "import json\n",
    "\n",
    "# [내 애플리케이션] > [앱 키] 에서 확인한 REST API 키 값 입력\n",
    "with open('../key.json','r') as f:\n",
    "    key = json.load(f)\n",
    "REST_API_KEY = key['key']\n",
    "\n",
    "# KoGPT API 호출을 위한 메서드 선언\n",
    "# 각 파라미터 기본값으로 설정\n",
    "def kogpt_api(prompt, max_tokens = 1, temperature = 1.0, top_p = 1.0, n = 1):\n",
    "    r = requests.post(\n",
    "        'https://api.kakaobrain.com/v1/inference/kogpt/generation',\n",
    "        json = {\n",
    "            'prompt': prompt,\n",
    "            'max_tokens': max_tokens,\n",
    "            'temperature': temperature,\n",
    "            'top_p': top_p,\n",
    "            'n': n\n",
    "        },\n",
    "        headers = {\n",
    "            'Authorization': 'KakaoAK ' + REST_API_KEY,\n",
    "            'Content-Type': 'application/json'\n",
    "        }\n",
    "    )\n",
    "    # 응답 JSON 형식으로 변환\n",
    "    response = json.loads(r.content)\n",
    "    return response\n",
    "\n",
    "# KoGPT에게 전달할 명령어 구성\n",
    "prompt = '''임진왜란때 조선의 왕은?'''\n",
    "\n",
    "# 파라미터를 전달해 kogpt_api()메서드 호출\n",
    "response = kogpt_api(\n",
    "    prompt = prompt,\n",
    "    max_tokens = 32,\n",
    "    temperature = 1.0,\n",
    "    top_p = 1.0,\n",
    "    n = 3\n",
    ")\n",
    "\n",
    "response"
   ]
  },
  {
   "cell_type": "code",
   "execution_count": 44,
   "metadata": {},
   "outputs": [
    {
     "data": {
      "text/plain": [
       "{'id': '66233617-1874-47c8-ac2a-5b7027a1322b',\n",
       " 'generations': [{'text': ' 인기캐릭터 라이언 등의 IT기업들이 함께 하였던 네이버 OGQ마켓은 국내 최대 크리에이터 플랫폼으로서 지난해 11번가의 판매자센터 내 이모티콘 샵 입점 서비스 개시 이후 월평균 거래액 20% 이상 증가했으며 작년 말 대비 3개월 만에 누적거래액 100배 달성했다고 알렸는데 이번엔 카카오톡 최고 기대작인 모바일앱을 기반하여 재미요소 및 교육기능 탑재시킨 쇼핑플랫폼 카카오스토리가 시장규모 2조원대의 세계1위 NGO단체인 월드비전과의 MOU체결을 통한 라이브방송 기능 강화되었음을 알렸으나 아직 현실화 초기단계라 출시 후 개선점 도출위해 노력중이라고 덧붙였',\n",
       "   'tokens': 128}],\n",
       " 'usage': {'prompt_tokens': 524, 'generated_tokens': 128, 'total_tokens': 652}}"
      ]
     },
     "execution_count": 44,
     "metadata": {},
     "output_type": "execute_result"
    }
   ],
   "source": [
    "prompt='''카카오(각자대표 남궁훈, 홍은택)의 임팩트 커머스 카카오메이커스와 카카오브레인(대표 김일두)이 '세계 동물의 날'을 맞아 멸종 위기 동물 보호에 힘을 보탠다. \n",
    "\n",
    "카카오메이커스와 카카오브레인은 4일 세계 동물의 날을 맞아, 카카오브레인의 AI 아티스트 '칼로' 와 현대미술가 고상우 작가가 협업한 제품을 오는 12일까지 카카오메이커스에서 단독 판매한다고 밝혔다. 판매 수익금 전액은 WWF(세계자연기금)에 기부할 예정이다. \n",
    "\n",
    "이번 프로젝트에 참여한 AI 아티스트 '칼로'는 'minDALL-E', 'RQ-Transformer' 등 카카오브레인의 초거대 이미지 생성 AI 모델을 발전시켜 하나의 페르소나로 재탄생한 AI 아티스트다. 1.8억 장 규모의 텍스트-이미지 데이터셋을 학습해 이해한 문맥을 바탕으로 다양한 화풍과 스타일로 이미지를 생성할 수 있다. 올해 6월에는 고상우 작가와의 공동 작업으로 생성한 1,000개의 호랑이 이미지를 조합한 디지털 작품으로 전시회를 진행한 바 있다. \n",
    "\n",
    "이번 프로젝트를 통해 선보이는 제품은 맨투맨과 머그컵이다. '칼로'가 생성한 호랑이 그림과 푸른색 사진 예술의 선구자인 고상우 작가 특유의 드로잉이 조화롭게 어우러져 완성된 500점의 호랑이 그림 모자이크 'Blue Tiger'가 새겨져 있다. 판매 수익금 전액은 WWF(세계자연기금)에 기부됨과 동시에, 낭비 없는 생산을 위해 주문 수량만큼 제품을 생산하는 카카오메이커스의 환경친화적 주문제작 방식(POD 생산)을 도입했다. \n",
    "\n",
    "카카오브레인 김일두 대표는 \"AI 아티스트 칼로가 생성한 예술 작품으로 멸종 위기 동물 보호 활동에 동참하게 되어 기쁘다\"며, \"앞으로도 우리의 AI 기술을 통해 사회에 환원할 수 있는 의미 있는 프로젝트에 지속 참여하겠다\"며 포부를 전했다. \n",
    "\n",
    "카카오 정영주 메이커스 실장은 \"지난 8월 고양이의 날을 기념한 제품을 기획/판매해 기부한데 이어 사회의 다양한 구성원을 존중하고 배려하는 프로젝트를 이어가고 있다\"며 \"더 나은 세상을 만들기 위한 이용자들의 관심을 확인하고 있으며, 앞으로도 임팩트 커머스로서 다양한 가치를 담은 메이커스만의 제품을 선보일 것\" 이라고 밝혔다.\n",
    "\n",
    "한줄 요약:'''\n",
    "response = kogpt_api(prompt, max_tokens=128, top_p=0.7)\n",
    "response"
   ]
  },
  {
   "cell_type": "code",
   "execution_count": 45,
   "metadata": {},
   "outputs": [],
   "source": [
    "#karlo"
   ]
  },
  {
   "cell_type": "code",
   "execution_count": 70,
   "metadata": {},
   "outputs": [
    {
     "name": "stdout",
     "output_type": "stream",
     "text": [
      "{'id': '7e923b6d46824d06', 'model_version': 'v2.0.4.0.prod', 'images': [{'id': 'a2FybG8tdHJpdG9uLTY5NDliOGRjNWYtazZtcm0=-79ca3c68-551c-494e-a71e-549223f8e1ed', 'image': 'https://mk.kakaocdn.net/dna/karlo/image/2023-10-25/12/79ca3c68-551c-494e-a71e-549223f8e1ed.webp?credential=smxRqiqUEJBVgohptvfXS5JoYeFv4Xxa&expires=1698204223&signature=W9XkJnKdpRtUHSsw8ILiD6owjD0%3D', 'seed': 473745177, 'nsfw_content_detected': None, 'nsfw_score': None}]}\n"
     ]
    }
   ],
   "source": [
    "# REST API 호출, 이미지 파일 처리에 필요한 라이브러리\n",
    "import requests\n",
    "import json\n",
    "import urllib\n",
    "from PIL import Image\n",
    "\n",
    "# [내 애플리케이션] > [앱 키] 에서 확인한 REST API 키 값 입력\n",
    "REST_API_KEY = REST_API_KEY\n",
    "\n",
    "# 이미지 생성하기 요청\n",
    "def t2i(prompt, negative_prompt):\n",
    "    r = requests.post(\n",
    "        'https://api.kakaobrain.com/v2/inference/karlo/t2i',\n",
    "        json = {\n",
    "            'prompt': prompt,\n",
    "            'negative_prompt': negative_prompt\n",
    "        },\n",
    "        headers = {\n",
    "            'Authorization': f'KakaoAK {REST_API_KEY}',\n",
    "            'Content-Type': 'application/json'\n",
    "        }\n",
    "    )\n",
    "    # 응답 JSON 형식으로 변환\n",
    "    response = json.loads(r.content)\n",
    "    return response\n",
    "\n",
    "# 프롬프트에 사용할 제시어\n",
    "prompt = \"lunch\"\n",
    "negative_prompt = \"human\"\n",
    "\n",
    "# 이미지 생성하기 REST API 호출\n",
    "response = t2i(prompt, negative_prompt)\n",
    "\n",
    "# 응답의 첫 번째 이미지 생성 결과 출력하기\n",
    "result = Image.open(urllib.request.urlopen(response.get(\"images\")[0].get(\"image\")))\n",
    "result.show()"
   ]
  },
  {
   "cell_type": "code",
   "execution_count": null,
   "metadata": {},
   "outputs": [],
   "source": []
  }
 ],
 "metadata": {
  "kernelspec": {
   "display_name": "base",
   "language": "python",
   "name": "python3"
  },
  "language_info": {
   "codemirror_mode": {
    "name": "ipython",
    "version": 3
   },
   "file_extension": ".py",
   "mimetype": "text/x-python",
   "name": "python",
   "nbconvert_exporter": "python",
   "pygments_lexer": "ipython3",
   "version": "3.11.5"
  }
 },
 "nbformat": 4,
 "nbformat_minor": 2
}
