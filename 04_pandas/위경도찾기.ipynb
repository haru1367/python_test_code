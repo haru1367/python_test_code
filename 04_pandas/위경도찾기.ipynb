{
 "cells": [
  {
   "cell_type": "code",
   "execution_count": 1,
   "metadata": {},
   "outputs": [
    {
     "name": "stdout",
     "output_type": "stream",
     "text": [
      "Requirement already satisfied: geopy in c:\\users\\haru1367\\anaconda3\\lib\\site-packages (2.4.0)\n",
      "Requirement already satisfied: geographiclib<3,>=1.52 in c:\\users\\haru1367\\anaconda3\\lib\\site-packages (from geopy) (2.0)\n",
      "Note: you may need to restart the kernel to use updated packages.\n"
     ]
    }
   ],
   "source": [
    "%pip install geopy"
   ]
  },
  {
   "cell_type": "code",
   "execution_count": 2,
   "metadata": {},
   "outputs": [],
   "source": [
    "from geopy.geocoders import Nominatim\n",
    "geocoder = Nominatim(user_agent='test')"
   ]
  },
  {
   "cell_type": "code",
   "execution_count": 3,
   "metadata": {},
   "outputs": [
    {
     "name": "stdout",
     "output_type": "stream",
     "text": [
      "CPU times: total: 0 ns\n",
      "Wall time: 0 ns\n"
     ]
    }
   ],
   "source": [
    "%time #셀을 한번 실행하는데 걸리는 시간\n",
    "#%timeit -n10 셀을 10번 반복하는데 걸리는 시간\n",
    "result = geocoder.geocode('세종특별자치시 조치원읍 세종로 2511')"
   ]
  },
  {
   "cell_type": "code",
   "execution_count": 4,
   "metadata": {},
   "outputs": [
    {
     "data": {
      "text/plain": [
       "geopy.location.Location"
      ]
     },
     "execution_count": 4,
     "metadata": {},
     "output_type": "execute_result"
    }
   ],
   "source": [
    "type(result)"
   ]
  },
  {
   "cell_type": "code",
   "execution_count": 5,
   "metadata": {},
   "outputs": [
    {
     "data": {
      "text/plain": [
       "'고려대학교 세종캠퍼스, 2511, 세종로, 조치원읍, 세종, 30019, 대한민국'"
      ]
     },
     "execution_count": 5,
     "metadata": {},
     "output_type": "execute_result"
    }
   ],
   "source": [
    "result.address"
   ]
  },
  {
   "cell_type": "code",
   "execution_count": 6,
   "metadata": {},
   "outputs": [
    {
     "data": {
      "text/plain": [
       "36.6105229"
      ]
     },
     "execution_count": 6,
     "metadata": {},
     "output_type": "execute_result"
    }
   ],
   "source": [
    "result.latitude #위도"
   ]
  },
  {
   "cell_type": "code",
   "execution_count": 7,
   "metadata": {},
   "outputs": [
    {
     "data": {
      "text/plain": [
       "127.28871538515327"
      ]
     },
     "execution_count": 7,
     "metadata": {},
     "output_type": "execute_result"
    }
   ],
   "source": [
    "result.longitude #경도"
   ]
  },
  {
   "cell_type": "code",
   "execution_count": 8,
   "metadata": {},
   "outputs": [
    {
     "data": {
      "text/plain": [
       "Point(36.6105229, 127.28871538515327, 0.0)"
      ]
     },
     "execution_count": 8,
     "metadata": {},
     "output_type": "execute_result"
    }
   ],
   "source": [
    "result.point"
   ]
  },
  {
   "cell_type": "code",
   "execution_count": 9,
   "metadata": {},
   "outputs": [
    {
     "data": {
      "text/plain": [
       "Location(고려대학교 세종캠퍼스, 2511, 세종로, 조치원읍, 세종, 30019, 대한민국, (36.6105229, 127.28871538515327, 0.0))"
      ]
     },
     "execution_count": 9,
     "metadata": {},
     "output_type": "execute_result"
    }
   ],
   "source": [
    "geocoder.reverse('36.6105229, 127.28871538515327')"
   ]
  },
  {
   "cell_type": "code",
   "execution_count": 10,
   "metadata": {},
   "outputs": [],
   "source": [
    "import json,os\n",
    "key=''\n",
    "with open('../key.json','r')as f:\n",
    "    key = json.load(f)\n",
    "    #print(key['key'])\n",
    "REST_API_KEY = key['key']"
   ]
  },
  {
   "cell_type": "markdown",
   "metadata": {},
   "source": [
    "curl -v -X GET \"https://dapi.kakao.com/v2/local/search/address.json\" \\\n",
    "  -H \"Authorization: KakaoAK ${REST_API_KEY}\" \\\n",
    "  --data-urlencode \"query=전북 삼성동 100\" "
   ]
  },
  {
   "cell_type": "code",
   "execution_count": 20,
   "metadata": {},
   "outputs": [
    {
     "data": {
      "text/plain": [
       "{'documents': [{'address': {'address_name': '세종특별자치시 조치원읍 서창리 208',\n",
       "    'b_code': '3611025034',\n",
       "    'h_code': '3611025000',\n",
       "    'main_address_no': '208',\n",
       "    'mountain_yn': 'N',\n",
       "    'region_1depth_name': '세종특별자치시',\n",
       "    'region_2depth_name': '',\n",
       "    'region_3depth_h_name': '조치원읍',\n",
       "    'region_3depth_name': '조치원읍 서창리',\n",
       "    'sub_address_no': '',\n",
       "    'x': '127.291002698042',\n",
       "    'y': '36.6116946201537'},\n",
       "   'address_name': '세종특별자치시 조치원읍 세종로 2511',\n",
       "   'address_type': 'ROAD_ADDR',\n",
       "   'road_address': {'address_name': '세종특별자치시 조치원읍 세종로 2511',\n",
       "    'building_name': '고려대학교세종캠퍼스',\n",
       "    'main_building_no': '2511',\n",
       "    'region_1depth_name': '세종특별자치시',\n",
       "    'region_2depth_name': '',\n",
       "    'region_3depth_name': '조치원읍 서창리',\n",
       "    'road_name': '세종로',\n",
       "    'sub_building_no': '',\n",
       "    'underground_yn': 'N',\n",
       "    'x': '127.291002698042',\n",
       "    'y': '36.6116946201537',\n",
       "    'zone_no': '30019'},\n",
       "   'x': '127.291002698042',\n",
       "   'y': '36.6116946201537'}],\n",
       " 'meta': {'is_end': True, 'pageable_count': 1, 'total_count': 1}}"
      ]
     },
     "execution_count": 20,
     "metadata": {},
     "output_type": "execute_result"
    }
   ],
   "source": [
    "import requests\n",
    "\n",
    "address = '세종특별자치시 조치원읍 세종로 2511'\n",
    "url = f\"https://dapi.kakao.com/v2/local/search/address.json?query={address}\"\n",
    "headers = {'Authorization':f'KakaoAK {REST_API_KEY}'}\n",
    "res = requests.get(url,headers=headers).json()\n",
    "res"
   ]
  },
  {
   "cell_type": "code",
   "execution_count": 21,
   "metadata": {},
   "outputs": [
    {
     "name": "stdout",
     "output_type": "stream",
     "text": [
      "127.291002698042\n",
      "36.6116946201537\n",
      "\n"
     ]
    }
   ],
   "source": [
    "print(res['documents'][0]['address']['x'])\n",
    "print(res['documents'][0]['address']['y'])\n",
    "print('')"
   ]
  },
  {
   "cell_type": "markdown",
   "metadata": {},
   "source": [
    "<키워드 검색>\n",
    "요청 : 세종특별자치시 조치원읍 세종로 2511 20km 반경에서 카카오프렌즈 매장 검색\n",
    "curl -v -X GET \"https://dapi.kakao.com/v2/local/search/keyword.json?y=37.514322572335935&x=127.06283102249932&radius=20000\" \\\n",
    "  -H \"Authorization: KakaoAK ${REST_API_KEY}\" \\\n",
    "  --data-urlencode \"query=카카오프렌즈\" "
   ]
  },
  {
   "cell_type": "code",
   "execution_count": 24,
   "metadata": {},
   "outputs": [
    {
     "data": {
      "text/plain": [
       "{'documents': [{'address_name': '세종특별자치시 나성동 795',\n",
       "   'category_group_code': '',\n",
       "   'category_group_name': '',\n",
       "   'category_name': '스포츠,레저 > 골프 > 골프연습장 > 스크린골프연습장',\n",
       "   'distance': '13820',\n",
       "   'id': '1749884461',\n",
       "   'phone': '044-866-9003',\n",
       "   'place_name': '카카오프렌즈스크린 나성점',\n",
       "   'place_url': 'http://place.map.kakao.com/1749884461',\n",
       "   'road_address_name': '세종특별자치시 나성로 125-16',\n",
       "   'x': '127.257737992221',\n",
       "   'y': '36.4900749691997'}],\n",
       " 'meta': {'is_end': True,\n",
       "  'pageable_count': 1,\n",
       "  'same_name': {'keyword': '카카오프렌즈', 'region': [], 'selected_region': ''},\n",
       "  'total_count': 1}}"
      ]
     },
     "execution_count": 24,
     "metadata": {},
     "output_type": "execute_result"
    }
   ],
   "source": [
    "y = 36.6116946201537\n",
    "x = 127.291002698042\n",
    "radius=20000\n",
    "query='카카오프렌즈'\n",
    "url = f\"https://dapi.kakao.com/v2/local/search/keyword.json?y={y}&x={x}&radius={radius}&query={query}\"\n",
    "headers = {'Authorization':f'KakaoAK {REST_API_KEY}'}\n",
    "res = requests.get(url,headers=headers).json()\n",
    "res"
   ]
  },
  {
   "cell_type": "markdown",
   "metadata": {},
   "source": [
    "<카테고리 검색>\n",
    "요청: 세종특별자치시 조치원읍 세종로 2511 20km 반경에서 약국 검색\n",
    "curl -v -X GET \"https://dapi.kakao.com/v2/local/search/category.json?category\\_group\\_code=PM9&radius=20000\" \\\n",
    "  -H \"Authorization: KakaoAK ${REST_API_KEY}\""
   ]
  },
  {
   "cell_type": "code",
   "execution_count": 25,
   "metadata": {},
   "outputs": [
    {
     "data": {
      "text/plain": [
       "{'documents': [{'address_name': '세종특별자치시 조치원읍 침산리 270-9',\n",
       "   'category_group_code': 'PM9',\n",
       "   'category_group_name': '약국',\n",
       "   'category_name': '의료,건강 > 약국',\n",
       "   'distance': '949',\n",
       "   'id': '671670324',\n",
       "   'phone': '044-863-1477',\n",
       "   'place_name': '참편한약국',\n",
       "   'place_url': 'http://place.map.kakao.com/671670324',\n",
       "   'road_address_name': '세종특별자치시 조치원읍 행복8길 2',\n",
       "   'x': '127.291288099121',\n",
       "   'y': '36.6031422975722'},\n",
       "  {'address_name': '세종특별자치시 조치원읍 교리 15-5',\n",
       "   'category_group_code': 'PM9',\n",
       "   'category_group_name': '약국',\n",
       "   'category_name': '의료,건강 > 약국',\n",
       "   'distance': '1065',\n",
       "   'id': '17821859',\n",
       "   'phone': '044-865-1122',\n",
       "   'place_name': '신흥약국',\n",
       "   'place_url': 'http://place.map.kakao.com/17821859',\n",
       "   'road_address_name': '세종특별자치시 조치원읍 새내16길 4',\n",
       "   'x': '127.29783801772327',\n",
       "   'y': '36.60383260164238'},\n",
       "  {'address_name': '세종특별자치시 조치원읍 교리 15-9',\n",
       "   'category_group_code': 'PM9',\n",
       "   'category_group_name': '약국',\n",
       "   'category_name': '의료,건강 > 약국',\n",
       "   'distance': '1083',\n",
       "   'id': '11126573',\n",
       "   'phone': '044-866-2229',\n",
       "   'place_name': '세인약국',\n",
       "   'place_url': 'http://place.map.kakao.com/11126573',\n",
       "   'road_address_name': '세종특별자치시 조치원읍 새내로 132',\n",
       "   'x': '127.297850709046',\n",
       "   'y': '36.6036451330071'},\n",
       "  {'address_name': '세종특별자치시 조치원읍 교리 7-8',\n",
       "   'category_group_code': '',\n",
       "   'category_group_name': '',\n",
       "   'category_name': '의료,건강 > 한약국,한약방',\n",
       "   'distance': '1048',\n",
       "   'id': '1484028638',\n",
       "   'phone': '010-6403-8576',\n",
       "   'place_name': '자연산약초',\n",
       "   'place_url': 'http://place.map.kakao.com/1484028638',\n",
       "   'road_address_name': '세종특별자치시 조치원읍 조치원5길 72-1',\n",
       "   'x': '127.298850515986',\n",
       "   'y': '36.6046726318756'},\n",
       "  {'address_name': '세종특별자치시 조치원읍 원리 10-27',\n",
       "   'category_group_code': 'PM9',\n",
       "   'category_group_name': '약국',\n",
       "   'category_name': '의료,건강 > 약국',\n",
       "   'distance': '1277',\n",
       "   'id': '14829576',\n",
       "   'phone': '044-866-3800',\n",
       "   'place_name': '종로약국',\n",
       "   'place_url': 'http://place.map.kakao.com/14829576',\n",
       "   'road_address_name': '세종특별자치시 조치원읍 조치원로 3',\n",
       "   'x': '127.297198019197',\n",
       "   'y': '36.6013218232237'},\n",
       "  {'address_name': '세종특별자치시 조치원읍 교리 24-1',\n",
       "   'category_group_code': 'PM9',\n",
       "   'category_group_name': '약국',\n",
       "   'category_name': '의료,건강 > 약국',\n",
       "   'distance': '1169',\n",
       "   'id': '11495650',\n",
       "   'phone': '044-868-8503',\n",
       "   'place_name': '우리들약국',\n",
       "   'place_url': 'http://place.map.kakao.com/11495650',\n",
       "   'road_address_name': '세종특별자치시 조치원읍 새내로 122',\n",
       "   'x': '127.29815174361443',\n",
       "   'y': '36.60287300521096'},\n",
       "  {'address_name': '세종특별자치시 조치원읍 원리 4-15',\n",
       "   'category_group_code': 'PM9',\n",
       "   'category_group_name': '약국',\n",
       "   'category_name': '의료,건강 > 약국',\n",
       "   'distance': '1383',\n",
       "   'id': '13540073',\n",
       "   'phone': '044-865-5331',\n",
       "   'place_name': '김약국',\n",
       "   'place_url': 'http://place.map.kakao.com/13540073',\n",
       "   'road_address_name': '세종특별자치시 조치원읍 조치원로 26',\n",
       "   'x': '127.29955281315341',\n",
       "   'y': '36.60130511416173'},\n",
       "  {'address_name': '세종특별자치시 조치원읍 원리 12-12',\n",
       "   'category_group_code': 'PM9',\n",
       "   'category_group_name': '약국',\n",
       "   'category_name': '의료,건강 > 약국',\n",
       "   'distance': '1405',\n",
       "   'id': '386539246',\n",
       "   'phone': '044-867-8787',\n",
       "   'place_name': '조치원햇살약국',\n",
       "   'place_url': 'http://place.map.kakao.com/386539246',\n",
       "   'road_address_name': '세종특별자치시 조치원읍 새내로 97',\n",
       "   'x': '127.298034826713',\n",
       "   'y': '36.6003717348367'},\n",
       "  {'address_name': '세종특별자치시 조치원읍 정리 102-3',\n",
       "   'category_group_code': 'PM9',\n",
       "   'category_group_name': '약국',\n",
       "   'category_name': '의료,건강 > 약국',\n",
       "   'distance': '1429',\n",
       "   'id': '8732248',\n",
       "   'phone': '044-865-3629',\n",
       "   'place_name': '감초당온누리약국',\n",
       "   'place_url': 'http://place.map.kakao.com/8732248',\n",
       "   'road_address_name': '세종특별자치시 조치원읍 새내9길 3',\n",
       "   'x': '127.298132399829',\n",
       "   'y': '36.6001696355392'},\n",
       "  {'address_name': '세종특별자치시 조치원읍 상리 141',\n",
       "   'category_group_code': 'PM9',\n",
       "   'category_group_name': '약국',\n",
       "   'category_name': '의료,건강 > 약국',\n",
       "   'distance': '1473',\n",
       "   'id': '10050764',\n",
       "   'phone': '044-865-7900',\n",
       "   'place_name': '허약국',\n",
       "   'place_url': 'http://place.map.kakao.com/10050764',\n",
       "   'road_address_name': '세종특별자치시 조치원읍 조치원로 42-2',\n",
       "   'x': '127.30170652289814',\n",
       "   'y': '36.601598859704445'},\n",
       "  {'address_name': '세종특별자치시 조치원읍 원리 11-9',\n",
       "   'category_group_code': 'PM9',\n",
       "   'category_group_name': '약국',\n",
       "   'category_name': '의료,건강 > 약국',\n",
       "   'distance': '1324',\n",
       "   'id': '9241445',\n",
       "   'phone': '044-865-2169',\n",
       "   'place_name': '역전약국',\n",
       "   'place_url': 'http://place.map.kakao.com/9241445',\n",
       "   'road_address_name': '세종특별자치시 조치원읍 으뜸길 208',\n",
       "   'x': '127.297052945535',\n",
       "   'y': '36.6007959194654'},\n",
       "  {'address_name': '세종특별자치시 조치원읍 원리 9-10',\n",
       "   'category_group_code': 'PM9',\n",
       "   'category_group_name': '약국',\n",
       "   'category_name': '의료,건강 > 약국',\n",
       "   'distance': '1237',\n",
       "   'id': '10404659',\n",
       "   'phone': '044-862-8088',\n",
       "   'place_name': '믿음약국',\n",
       "   'place_url': 'http://place.map.kakao.com/10404659',\n",
       "   'road_address_name': '세종특별자치시 조치원읍 새내로 113-1',\n",
       "   'x': '127.2978253730026',\n",
       "   'y': '36.601997012791664'},\n",
       "  {'address_name': '세종특별자치시 조치원읍 원리 7-6',\n",
       "   'category_group_code': 'PM9',\n",
       "   'category_group_name': '약국',\n",
       "   'category_name': '의료,건강 > 약국',\n",
       "   'distance': '1361',\n",
       "   'id': '19892708',\n",
       "   'phone': '044-866-2700',\n",
       "   'place_name': '다나약국',\n",
       "   'place_url': 'http://place.map.kakao.com/19892708',\n",
       "   'road_address_name': '세종특별자치시 조치원읍 새내로 102',\n",
       "   'x': '127.298314173141',\n",
       "   'y': '36.6009369515455'},\n",
       "  {'address_name': '세종특별자치시 조치원읍 상리 71-4',\n",
       "   'category_group_code': 'PM9',\n",
       "   'category_group_name': '약국',\n",
       "   'category_name': '의료,건강 > 약국',\n",
       "   'distance': '1512',\n",
       "   'id': '72806335',\n",
       "   'phone': '044-868-2375',\n",
       "   'place_name': '해오름온누리약국',\n",
       "   'place_url': 'http://place.map.kakao.com/72806335',\n",
       "   'road_address_name': '세종특별자치시 조치원읍 조치원10길 9',\n",
       "   'x': '127.30326394125933',\n",
       "   'y': '36.602309510239465'},\n",
       "  {'address_name': '세종특별자치시 조치원읍 정리 99-1',\n",
       "   'category_group_code': 'PM9',\n",
       "   'category_group_name': '약국',\n",
       "   'category_name': '의료,건강 > 약국',\n",
       "   'distance': '1626',\n",
       "   'id': '16712424',\n",
       "   'phone': '044-865-6562',\n",
       "   'place_name': '대수약국',\n",
       "   'place_url': 'http://place.map.kakao.com/16712424',\n",
       "   'road_address_name': '세종특별자치시 조치원읍 새내5길 2',\n",
       "   'x': '127.29848184934524',\n",
       "   'y': '36.59833404047182'}],\n",
       " 'meta': {'is_end': False,\n",
       "  'pageable_count': 45,\n",
       "  'same_name': {'keyword': '약국', 'region': [], 'selected_region': ''},\n",
       "  'total_count': 593}}"
      ]
     },
     "execution_count": 25,
     "metadata": {},
     "output_type": "execute_result"
    }
   ],
   "source": [
    "y = 36.6116946201537\n",
    "x = 127.291002698042\n",
    "radius=20000\n",
    "query='약국'\n",
    "url = f\"https://dapi.kakao.com/v2/local/search/keyword.json?y={y}&x={x}&radius={radius}&query={query}\"\n",
    "headers = {'Authorization':f'KakaoAK {REST_API_KEY}'}\n",
    "res = requests.get(url,headers=headers).json()\n",
    "res"
   ]
  },
  {
   "cell_type": "code",
   "execution_count": null,
   "metadata": {},
   "outputs": [],
   "source": []
  }
 ],
 "metadata": {
  "kernelspec": {
   "display_name": "base",
   "language": "python",
   "name": "python3"
  },
  "language_info": {
   "codemirror_mode": {
    "name": "ipython",
    "version": 3
   },
   "file_extension": ".py",
   "mimetype": "text/x-python",
   "name": "python",
   "nbconvert_exporter": "python",
   "pygments_lexer": "ipython3",
   "version": "3.11.5"
  }
 },
 "nbformat": 4,
 "nbformat_minor": 2
}
